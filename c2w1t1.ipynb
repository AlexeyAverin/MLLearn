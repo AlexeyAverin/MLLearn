{
 "cells": [
  {
   "cell_type": "code",
   "execution_count": 1,
   "metadata": {},
   "outputs": [
    {
     "name": "stdout",
     "output_type": "stream",
     "text": [
      "Good day!!!\n"
     ]
    }
   ],
   "source": [
    "print('Good day!!!')"
   ]
  },
  {
   "cell_type": "code",
   "execution_count": 24,
   "metadata": {},
   "outputs": [
    {
     "name": "stderr",
     "output_type": "stream",
     "text": [
      "/home/yurist/anaconda3/lib/python3.7/site-packages/IPython/core/interactiveshell.py:2785: DtypeWarning: Columns (0) have mixed types. Specify dtype option on import or set low_memory=False.\n",
      "  interactivity=interactivity, compiler=compiler, result=result)\n"
     ]
    },
    {
     "data": {
      "text/html": [
       "<div>\n",
       "<style scoped>\n",
       "    .dataframe tbody tr th:only-of-type {\n",
       "        vertical-align: middle;\n",
       "    }\n",
       "\n",
       "    .dataframe tbody tr th {\n",
       "        vertical-align: top;\n",
       "    }\n",
       "\n",
       "    .dataframe thead th {\n",
       "        text-align: right;\n",
       "    }\n",
       "</style>\n",
       "<table border=\"1\" class=\"dataframe\">\n",
       "  <thead>\n",
       "    <tr style=\"text-align: right;\">\n",
       "      <th></th>\n",
       "      <th>id</th>\n",
       "      <th>user_id</th>\n",
       "      <th>venue_id</th>\n",
       "      <th>latitude</th>\n",
       "      <th>longitude</th>\n",
       "      <th>created_at</th>\n",
       "    </tr>\n",
       "  </thead>\n",
       "  <tbody>\n",
       "    <tr>\n",
       "      <th>0</th>\n",
       "      <td>984301</td>\n",
       "      <td>2041916.0</td>\n",
       "      <td>5222.0</td>\n",
       "      <td>NaN</td>\n",
       "      <td>NaN</td>\n",
       "      <td>2012-04-2117:39:01</td>\n",
       "    </tr>\n",
       "    <tr>\n",
       "      <th>1</th>\n",
       "      <td>984222</td>\n",
       "      <td>15824.0</td>\n",
       "      <td>5222.0</td>\n",
       "      <td>38.895112</td>\n",
       "      <td>-77.036366</td>\n",
       "      <td>2012-04-2117:43:47</td>\n",
       "    </tr>\n",
       "    <tr>\n",
       "      <th>2</th>\n",
       "      <td>984315</td>\n",
       "      <td>1764391.0</td>\n",
       "      <td>5222.0</td>\n",
       "      <td>NaN</td>\n",
       "      <td>NaN</td>\n",
       "      <td>2012-04-2117:37:18</td>\n",
       "    </tr>\n",
       "    <tr>\n",
       "      <th>3</th>\n",
       "      <td>984234</td>\n",
       "      <td>44652.0</td>\n",
       "      <td>5222.0</td>\n",
       "      <td>33.800745</td>\n",
       "      <td>-84.410520</td>\n",
       "      <td>2012-04-2117:43:43</td>\n",
       "    </tr>\n",
       "    <tr>\n",
       "      <th>4</th>\n",
       "      <td>984249</td>\n",
       "      <td>2146840.0</td>\n",
       "      <td>5222.0</td>\n",
       "      <td>NaN</td>\n",
       "      <td>NaN</td>\n",
       "      <td>2012-04-2117:42:58</td>\n",
       "    </tr>\n",
       "  </tbody>\n",
       "</table>\n",
       "</div>"
      ],
      "text/plain": [
       "       id    user_id  venue_id   latitude  longitude          created_at\n",
       "0  984301  2041916.0    5222.0        NaN        NaN  2012-04-2117:39:01\n",
       "1  984222    15824.0    5222.0  38.895112 -77.036366  2012-04-2117:43:47\n",
       "2  984315  1764391.0    5222.0        NaN        NaN  2012-04-2117:37:18\n",
       "3  984234    44652.0    5222.0  33.800745 -84.410520  2012-04-2117:43:43\n",
       "4  984249  2146840.0    5222.0        NaN        NaN  2012-04-2117:42:58"
      ]
     },
     "execution_count": 24,
     "metadata": {},
     "output_type": "execute_result"
    }
   ],
   "source": [
    "# создание CSV файла с последующим его открытием в Pandas (вариант 1)\n",
    "import csv\n",
    "import pandas as pd\n",
    "\n",
    "# загрузили файл данных\n",
    "with open(\"/home/yurist/Рабочий стол/LINUX/COD/PYTHON/MLLearn/checkins.dat\", 'r') as fo:\n",
    "    lines = fo.readlines()\n",
    "fo.close()\n",
    "\n",
    "# убрали все пробелы из строки и заменили разделитель ' | ' на ','\n",
    "#linesCSV = [(' '.join(line.split())).replace('|', ',')  for line in lines]\n",
    "linesCSV = [(''.join(line.split())).split('|')  for line in lines]\n",
    "\n",
    "# убрали границу разделитель\n",
    "linesCSV.pop(1)\n",
    "#print(linesCSV[0])\n",
    "\n",
    "\n",
    "with open('/home/yurist/Рабочий стол/LINUX/COD/PYTHON/MLLearn/checkins.csv', 'w', newline='') as fo:\n",
    "    writer = csv.writer(fo)\n",
    "    writer.writerows(linesCSV)\n",
    "fo.close()\n",
    "\n",
    "# создаем DataFrame\n",
    "df = pd.read_csv('/home/yurist/Рабочий стол/LINUX/COD/PYTHON/MLLearn/checkins.csv', header=0, sep=',')\n",
    "df.head()\n"
   ]
  },
  {
   "cell_type": "code",
   "execution_count": 36,
   "metadata": {},
   "outputs": [
    {
     "data": {
      "text/html": [
       "<div>\n",
       "<style scoped>\n",
       "    .dataframe tbody tr th:only-of-type {\n",
       "        vertical-align: middle;\n",
       "    }\n",
       "\n",
       "    .dataframe tbody tr th {\n",
       "        vertical-align: top;\n",
       "    }\n",
       "\n",
       "    .dataframe thead th {\n",
       "        text-align: right;\n",
       "    }\n",
       "</style>\n",
       "<table border=\"1\" class=\"dataframe\">\n",
       "  <thead>\n",
       "    <tr style=\"text-align: right;\">\n",
       "      <th></th>\n",
       "      <th>created_at</th>\n",
       "      <th>id</th>\n",
       "      <th>latitude</th>\n",
       "      <th>longitude</th>\n",
       "      <th>user_id</th>\n",
       "      <th>venue_id</th>\n",
       "    </tr>\n",
       "  </thead>\n",
       "  <tbody>\n",
       "    <tr>\n",
       "      <th>0</th>\n",
       "      <td>2012-04-2117:39:01</td>\n",
       "      <td>984301</td>\n",
       "      <td>NaN</td>\n",
       "      <td>NaN</td>\n",
       "      <td>2041916</td>\n",
       "      <td>5222</td>\n",
       "    </tr>\n",
       "    <tr>\n",
       "      <th>1</th>\n",
       "      <td>2012-04-2117:43:47</td>\n",
       "      <td>984222</td>\n",
       "      <td>38.8951118</td>\n",
       "      <td>-77.0363658</td>\n",
       "      <td>15824</td>\n",
       "      <td>5222</td>\n",
       "    </tr>\n",
       "    <tr>\n",
       "      <th>2</th>\n",
       "      <td>2012-04-2117:37:18</td>\n",
       "      <td>984315</td>\n",
       "      <td>NaN</td>\n",
       "      <td>NaN</td>\n",
       "      <td>1764391</td>\n",
       "      <td>5222</td>\n",
       "    </tr>\n",
       "    <tr>\n",
       "      <th>3</th>\n",
       "      <td>2012-04-2117:43:43</td>\n",
       "      <td>984234</td>\n",
       "      <td>33.800745</td>\n",
       "      <td>-84.41052</td>\n",
       "      <td>44652</td>\n",
       "      <td>5222</td>\n",
       "    </tr>\n",
       "    <tr>\n",
       "      <th>4</th>\n",
       "      <td>2012-04-2117:42:58</td>\n",
       "      <td>984249</td>\n",
       "      <td>NaN</td>\n",
       "      <td>NaN</td>\n",
       "      <td>2146840</td>\n",
       "      <td>5222</td>\n",
       "    </tr>\n",
       "  </tbody>\n",
       "</table>\n",
       "</div>"
      ],
      "text/plain": [
       "           created_at      id    latitude    longitude  user_id venue_id\n",
       "0  2012-04-2117:39:01  984301         NaN          NaN  2041916     5222\n",
       "1  2012-04-2117:43:47  984222  38.8951118  -77.0363658    15824     5222\n",
       "2  2012-04-2117:37:18  984315         NaN          NaN  1764391     5222\n",
       "3  2012-04-2117:43:43  984234   33.800745    -84.41052    44652     5222\n",
       "4  2012-04-2117:42:58  984249         NaN          NaN  2146840     5222"
      ]
     },
     "execution_count": 36,
     "metadata": {},
     "output_type": "execute_result"
    }
   ],
   "source": [
    "# создание DataFrame сразу\n",
    "import pandas as pd\n",
    "import numpy as np\n",
    "\n",
    "# загрузили файл данных\n",
    "with open(\"/home/yurist/Рабочий стол/LINUX/COD/PYTHON/MLLearn/checkins.dat\", 'r') as fo:\n",
    "    lines = fo.readlines()\n",
    "fo.close()\n",
    "\n",
    "# убрали все пробелы из строки и заменили разделитель ' | ' на ','\n",
    "#linesCSV = [(' '.join(line.split())).replace('|', ',')  for line in lines]\n",
    "linesCSV = [(''.join(line.split())).split('|')  for line in lines]\n",
    "\n",
    "# убрали границу разделитель\n",
    "linesCSV.pop(1)\n",
    "\n",
    "# вырезаем строку заголовков\n",
    "columns = linesCSV.pop(0)\n",
    "\n",
    "# генерируем словарь данных для создания DataFrame (column:cell)\n",
    "linesDF = list()\n",
    "for line in linesCSV:\n",
    "    lineDict = { column:cell for column, cell in zip(columns, line) }\n",
    "    linesDF.append(lineDict)\n",
    "    \n",
    "# создаем DataFrame\n",
    "df = pd.DataFrame(linesDF)\n",
    "\n",
    "# заменяем пустые ячейки в столбцах latitude, longitude на np.nan (NaN) \n",
    "df['latitude'].replace('', np.nan, inplace = True)\n",
    "df['longitude'].replace('', np.nan, inplace = True)\n",
    "df.head()    "
   ]
  },
  {
   "cell_type": "code",
   "execution_count": 18,
   "metadata": {},
   "outputs": [
    {
     "name": "stdout",
     "output_type": "stream",
     "text": [
      "1021968\n"
     ]
    }
   ],
   "source": [
    "#"
   ]
  },
  {
   "cell_type": "code",
   "execution_count": 52,
   "metadata": {},
   "outputs": [
    {
     "data": {
      "text/html": [
       "<div>\n",
       "<style scoped>\n",
       "    .dataframe tbody tr th:only-of-type {\n",
       "        vertical-align: middle;\n",
       "    }\n",
       "\n",
       "    .dataframe tbody tr th {\n",
       "        vertical-align: top;\n",
       "    }\n",
       "\n",
       "    .dataframe thead th {\n",
       "        text-align: right;\n",
       "    }\n",
       "</style>\n",
       "<table border=\"1\" class=\"dataframe\">\n",
       "  <thead>\n",
       "    <tr style=\"text-align: right;\">\n",
       "      <th></th>\n",
       "      <th>latitude</th>\n",
       "      <th>longitude</th>\n",
       "    </tr>\n",
       "  </thead>\n",
       "  <tbody>\n",
       "    <tr>\n",
       "      <th>1</th>\n",
       "      <td>38.8951118</td>\n",
       "      <td>-77.0363658</td>\n",
       "    </tr>\n",
       "    <tr>\n",
       "      <th>3</th>\n",
       "      <td>33.800745</td>\n",
       "      <td>-84.41052</td>\n",
       "    </tr>\n",
       "    <tr>\n",
       "      <th>7</th>\n",
       "      <td>45.5234515</td>\n",
       "      <td>-122.6762071</td>\n",
       "    </tr>\n",
       "    <tr>\n",
       "      <th>9</th>\n",
       "      <td>40.764462</td>\n",
       "      <td>-111.904565</td>\n",
       "    </tr>\n",
       "    <tr>\n",
       "      <th>10</th>\n",
       "      <td>33.4483771</td>\n",
       "      <td>-112.0740373</td>\n",
       "    </tr>\n",
       "  </tbody>\n",
       "</table>\n",
       "</div>"
      ],
      "text/plain": [
       "      latitude     longitude\n",
       "1   38.8951118   -77.0363658\n",
       "3    33.800745     -84.41052\n",
       "7   45.5234515  -122.6762071\n",
       "9    40.764462   -111.904565\n",
       "10  33.4483771  -112.0740373"
      ]
     },
     "execution_count": 52,
     "metadata": {},
     "output_type": "execute_result"
    }
   ],
   "source": [
    "# убираем ненужные данные \n",
    "df.dropna(subset=['latitude', 'longitude'], inplace=True)\n",
    "\n",
    "# создали DataFrame координат\n",
    "X = df[['latitude', 'longitude']].copy()\n",
    "\n",
    "# создали короткий X\n",
    "x = X[0:10000]\n",
    "x.head()"
   ]
  },
  {
   "cell_type": "code",
   "execution_count": 59,
   "metadata": {},
   "outputs": [],
   "source": [
    "# Кластеризация MeanShift\n",
    "\n",
    "from sklearn.cluster import MeanShift\n",
    "\n",
    "clustering = MeanShift(bandwidth = 0.1).fit_predict(x)"
   ]
  },
  {
   "cell_type": "code",
   "execution_count": 100,
   "metadata": {},
   "outputs": [
    {
     "name": "stdout",
     "output_type": "stream",
     "text": [
      "[892   0   0 ...   0   0   1] [0.0000000e+00 1.1950000e-01 2.3900000e-01 ... 1.1947610e+03 1.1948805e+03\n",
      " 1.1950000e+03]\n"
     ]
    }
   ],
   "source": [
    "# обработка данных кластеризации\n",
    "#print(len(clustering.labels_))\n",
    "#print(len(set(clustering.labels_)))\n",
    "#clustering\n",
    "\n",
    "#clustersDict = {i: for i in clustering}\n",
    "\n",
    "\n",
    "# словарь (имя:колличество)\n",
    "cNameNumber = dict()\n",
    "for cName in clustering:\n",
    "    cNumber = cNameNumber.setdefault(cName, 0)\n",
    "    cNumber += 1\n",
    "    cNameNumber[cName] = cNumber\n",
    "\n",
    "#for cName, cNumber in sorted(cNameNumber.items(), key=lambda value: value[1], reverse = True):\n",
    "#    print(cName, cNumber)\n",
    "\n",
    "hist, bin_edges = np.histogram(clustering, bins=len(clustering))\n",
    "\n",
    "print(hist, bin_edges)"
   ]
  },
  {
   "cell_type": "code",
   "execution_count": 98,
   "metadata": {},
   "outputs": [
    {
     "ename": "SyntaxError",
     "evalue": "invalid syntax (<ipython-input-98-2266a8cc5790>, line 1)",
     "output_type": "error",
     "traceback": [
      "\u001b[0;36m  File \u001b[0;32m\"<ipython-input-98-2266a8cc5790>\"\u001b[0;36m, line \u001b[0;32m1\u001b[0m\n\u001b[0;31m    (/?)\u001b[0m\n\u001b[0m     ^\u001b[0m\n\u001b[0;31mSyntaxError\u001b[0m\u001b[0;31m:\u001b[0m invalid syntax\n"
     ]
    }
   ],
   "source": [
    "//?"
   ]
  },
  {
   "cell_type": "code",
   "execution_count": null,
   "metadata": {},
   "outputs": [],
   "source": []
  }
 ],
 "metadata": {
  "kernelspec": {
   "display_name": "Python 3",
   "language": "python",
   "name": "python3"
  },
  "language_info": {
   "codemirror_mode": {
    "name": "ipython",
    "version": 3
   },
   "file_extension": ".py",
   "mimetype": "text/x-python",
   "name": "python",
   "nbconvert_exporter": "python",
   "pygments_lexer": "ipython3",
   "version": "3.7.0"
  }
 },
 "nbformat": 4,
 "nbformat_minor": 2
}
