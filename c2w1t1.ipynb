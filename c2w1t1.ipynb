{
 "cells": [
  {
   "cell_type": "code",
   "execution_count": 21,
   "metadata": {},
   "outputs": [
    {
     "name": "stdout",
     "output_type": "stream",
     "text": [
      "Good day!!!\n"
     ]
    }
   ],
   "source": [
    "print('Good day!!!')"
   ]
  },
  {
   "cell_type": "code",
   "execution_count": 55,
   "metadata": {},
   "outputs": [
    {
     "name": "stdout",
     "output_type": "stream",
     "text": [
      "984291,105054,5222,45.5234515,-122.6762071,2012-04-21 17:39:22\n"
     ]
    }
   ],
   "source": [
    "import pandas as pd\n",
    "\n",
    "# загрузили файл данных\n",
    "with open(\"/home/yurist/Рабочий стол/LINUX/COD/PYTHON/MLLearn/checkins.dat\", 'r') as fo:\n",
    "    lines = fo.readlines()\n",
    "fo.close()\n",
    "\n",
    "# убрали все пробелы из строки и заменили разделитель ' | ' на ','\n",
    "linesCSV = [(' '.join(line.split())).replace(' | ', ',')  for line in lines]\n",
    "\n",
    "\n",
    "\n",
    "#print( linesCSV[9] )"
   ]
  },
  {
   "cell_type": "code",
   "execution_count": 41,
   "metadata": {},
   "outputs": [
    {
     "ename": "SyntaxError",
     "evalue": "invalid syntax (<ipython-input-41-2266a8cc5790>, line 1)",
     "output_type": "error",
     "traceback": [
      "\u001b[0;36m  File \u001b[0;32m\"<ipython-input-41-2266a8cc5790>\"\u001b[0;36m, line \u001b[0;32m1\u001b[0m\n\u001b[0;31m    (/?)\u001b[0m\n\u001b[0m     ^\u001b[0m\n\u001b[0;31mSyntaxError\u001b[0m\u001b[0;31m:\u001b[0m invalid syntax\n"
     ]
    }
   ],
   "source": [
    "//?"
   ]
  },
  {
   "cell_type": "code",
   "execution_count": null,
   "metadata": {},
   "outputs": [],
   "source": []
  }
 ],
 "metadata": {
  "kernelspec": {
   "display_name": "Python 3",
   "language": "python",
   "name": "python3"
  },
  "language_info": {
   "codemirror_mode": {
    "name": "ipython",
    "version": 3
   },
   "file_extension": ".py",
   "mimetype": "text/x-python",
   "name": "python",
   "nbconvert_exporter": "python",
   "pygments_lexer": "ipython3",
   "version": "3.7.0"
  }
 },
 "nbformat": 4,
 "nbformat_minor": 2
}
